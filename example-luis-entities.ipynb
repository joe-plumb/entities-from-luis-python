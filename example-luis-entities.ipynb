{
 "cells": [
  {
   "cell_type": "code",
   "execution_count": 1,
   "metadata": {},
   "outputs": [
    {
     "output_type": "execute_result",
     "data": {
      "text/plain": "                                                 text\nid                                                   \n1   the fingerprint reader on my phone no longer w...\n2            I am unable to login to the application \n3   this is an example where someone has many issu...\n4   i cant login and i'm really annoyed about it. ...\n5   everything worked brilliantly and i can't wait...",
      "text/html": "<div>\n<style scoped>\n    .dataframe tbody tr th:only-of-type {\n        vertical-align: middle;\n    }\n\n    .dataframe tbody tr th {\n        vertical-align: top;\n    }\n\n    .dataframe thead th {\n        text-align: right;\n    }\n</style>\n<table border=\"1\" class=\"dataframe\">\n  <thead>\n    <tr style=\"text-align: right;\">\n      <th></th>\n      <th>text</th>\n    </tr>\n    <tr>\n      <th>id</th>\n      <th></th>\n    </tr>\n  </thead>\n  <tbody>\n    <tr>\n      <th>1</th>\n      <td>the fingerprint reader on my phone no longer w...</td>\n    </tr>\n    <tr>\n      <th>2</th>\n      <td>I am unable to login to the application</td>\n    </tr>\n    <tr>\n      <th>3</th>\n      <td>this is an example where someone has many issu...</td>\n    </tr>\n    <tr>\n      <th>4</th>\n      <td>i cant login and i'm really annoyed about it. ...</td>\n    </tr>\n    <tr>\n      <th>5</th>\n      <td>everything worked brilliantly and i can't wait...</td>\n    </tr>\n  </tbody>\n</table>\n</div>"
     },
     "metadata": {},
     "execution_count": 1
    }
   ],
   "source": [
    "import datetime, json, os, time\n",
    "import pandas as pd\n",
    "\n",
    "from azure.cognitiveservices.language.luis.runtime import LUISRuntimeClient\n",
    "from msrest.authentication import CognitiveServicesCredentials\n",
    "\n",
    "from ratelimit import limits, sleep_and_retry\n",
    "\n",
    "# Load and set credentials\n",
    "with open('credentials.json') as json_file:\n",
    "    credentials = json.load(json_file)\n",
    "\n",
    "LUIS_RUNTIME_KEY=credentials['LUIS_RUNTIME_KEY']\n",
    "LUIS_RUNTIME_ENDPOINT=credentials['LUIS_RUNTIME_ENDPOINT']\n",
    "LUIS_RUNTIME_APPID=credentials['LUIS_RUNTIME_APPID']\n",
    "\n",
    "# Load data into dataframe\n",
    "df = pd.read_csv(\"example.csv\",  index_col='id')\n",
    "\n",
    "# view df from file\n",
    "df.head()"
   ]
  },
  {
   "cell_type": "code",
   "execution_count": 2,
   "metadata": {},
   "outputs": [],
   "source": [
    "# Instantiate a LUIS runtime client\n",
    "clientRuntime = LUISRuntimeClient(LUIS_RUNTIME_ENDPOINT, CognitiveServicesCredentials(LUIS_RUNTIME_KEY))"
   ]
  },
  {
   "cell_type": "code",
   "execution_count": 3,
   "metadata": {},
   "outputs": [],
   "source": [
    "# Define functions for prediction and entity parsing from response\n",
    "\n",
    "@sleep_and_retry\n",
    "@limits(calls=5, period=1)\n",
    "def predict(app_id, slot_name, query):\n",
    "    request = { \"query\" : str(query) }\n",
    "    # Note be sure to specify, using the slot_name parameter, whether your application is in staging or production.\n",
    "    resp = clientRuntime.prediction.get_slot_prediction(app_id=app_id, slot_name=slot_name, prediction_request=request)\n",
    "    return (resp)\n",
    "\n",
    "def get_all_values(d):\n",
    "    if isinstance(d, dict):\n",
    "        for v in d.values():\n",
    "            yield from get_all_values(v)\n",
    "    elif isinstance(d, list):\n",
    "        for v in d:\n",
    "            yield from get_all_values(v)\n",
    "    else:\n",
    "        yield d \n",
    "\n",
    "def get_results(resp):\n",
    "    return ','.join(get_all_values(list(resp.prediction.entities.keys()))) , resp.prediction.sentiment\n"
   ]
  },
  {
   "cell_type": "code",
   "execution_count": 4,
   "metadata": {},
   "outputs": [],
   "source": [
    "# Create new column with entities from LUIS\n",
    "df[['entities', 'sentiment']] = df.apply(lambda row: pd.Series(get_results(predict(LUIS_RUNTIME_APPID, 'production', row['text']))), axis=1)"
   ]
  },
  {
   "cell_type": "code",
   "execution_count": 5,
   "metadata": {},
   "outputs": [
    {
     "output_type": "execute_result",
     "data": {
      "text/plain": "                                                 text           entities  \\\nid                                                                         \n1   the fingerprint reader on my phone no longer w...        Fingerprint   \n2            I am unable to login to the application               Login   \n3   this is an example where someone has many issu...  Fingerprint,Login   \n4   i cant login and i'm really annoyed about it. ...              Login   \n5   everything worked brilliantly and i can't wait...                      \n\n   sentiment  \nid            \n1       None  \n2       None  \n3       None  \n4       None  \n5       None  ",
      "text/html": "<div>\n<style scoped>\n    .dataframe tbody tr th:only-of-type {\n        vertical-align: middle;\n    }\n\n    .dataframe tbody tr th {\n        vertical-align: top;\n    }\n\n    .dataframe thead th {\n        text-align: right;\n    }\n</style>\n<table border=\"1\" class=\"dataframe\">\n  <thead>\n    <tr style=\"text-align: right;\">\n      <th></th>\n      <th>text</th>\n      <th>entities</th>\n      <th>sentiment</th>\n    </tr>\n    <tr>\n      <th>id</th>\n      <th></th>\n      <th></th>\n      <th></th>\n    </tr>\n  </thead>\n  <tbody>\n    <tr>\n      <th>1</th>\n      <td>the fingerprint reader on my phone no longer w...</td>\n      <td>Fingerprint</td>\n      <td>None</td>\n    </tr>\n    <tr>\n      <th>2</th>\n      <td>I am unable to login to the application</td>\n      <td>Login</td>\n      <td>None</td>\n    </tr>\n    <tr>\n      <th>3</th>\n      <td>this is an example where someone has many issu...</td>\n      <td>Fingerprint,Login</td>\n      <td>None</td>\n    </tr>\n    <tr>\n      <th>4</th>\n      <td>i cant login and i'm really annoyed about it. ...</td>\n      <td>Login</td>\n      <td>None</td>\n    </tr>\n    <tr>\n      <th>5</th>\n      <td>everything worked brilliantly and i can't wait...</td>\n      <td></td>\n      <td>None</td>\n    </tr>\n  </tbody>\n</table>\n</div>"
     },
     "metadata": {},
     "execution_count": 5
    }
   ],
   "source": [
    "# df with entities column\n",
    "df.head()"
   ]
  }
 ],
 "metadata": {
  "kernelspec": {
   "display_name": "Python 3.6.9 64-bit",
   "language": "python",
   "name": "python36964bitfffbe1b62a1e4403aa3dc5479da7194a"
  },
  "language_info": {
   "codemirror_mode": {
    "name": "ipython",
    "version": 3
   },
   "file_extension": ".py",
   "mimetype": "text/x-python",
   "name": "python",
   "nbconvert_exporter": "python",
   "pygments_lexer": "ipython3",
   "version": "3.6.9-final"
  }
 },
 "nbformat": 4,
 "nbformat_minor": 4
}