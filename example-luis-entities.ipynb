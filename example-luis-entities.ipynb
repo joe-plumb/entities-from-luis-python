{
 "cells": [
  {
   "cell_type": "code",
   "execution_count": 1,
   "metadata": {},
   "outputs": [
    {
     "data": {
      "text/html": [
       "<div>\n",
       "<style scoped>\n",
       "    .dataframe tbody tr th:only-of-type {\n",
       "        vertical-align: middle;\n",
       "    }\n",
       "\n",
       "    .dataframe tbody tr th {\n",
       "        vertical-align: top;\n",
       "    }\n",
       "\n",
       "    .dataframe thead th {\n",
       "        text-align: right;\n",
       "    }\n",
       "</style>\n",
       "<table border=\"1\" class=\"dataframe\">\n",
       "  <thead>\n",
       "    <tr style=\"text-align: right;\">\n",
       "      <th></th>\n",
       "      <th>text</th>\n",
       "    </tr>\n",
       "    <tr>\n",
       "      <th>id</th>\n",
       "      <th></th>\n",
       "    </tr>\n",
       "  </thead>\n",
       "  <tbody>\n",
       "    <tr>\n",
       "      <th>1</th>\n",
       "      <td>the fingerprint reader on my phone no longer w...</td>\n",
       "    </tr>\n",
       "    <tr>\n",
       "      <th>2</th>\n",
       "      <td>I am unable to login to the application</td>\n",
       "    </tr>\n",
       "    <tr>\n",
       "      <th>3</th>\n",
       "      <td>this is an example where someone has many issu...</td>\n",
       "    </tr>\n",
       "  </tbody>\n",
       "</table>\n",
       "</div>"
      ],
      "text/plain": [
       "                                                 text\n",
       "id                                                   \n",
       "1   the fingerprint reader on my phone no longer w...\n",
       "2             I am unable to login to the application\n",
       "3   this is an example where someone has many issu..."
      ]
     },
     "execution_count": 1,
     "metadata": {},
     "output_type": "execute_result"
    }
   ],
   "source": [
    "import datetime, json, os, time\n",
    "import pandas as pd\n",
    "\n",
    "from azure.cognitiveservices.language.luis.runtime import LUISRuntimeClient\n",
    "from msrest.authentication import CognitiveServicesCredentials\n",
    "\n",
    "from ratelimit import limits, sleep_and_retry\n",
    "\n",
    "## More details here: https://docs.microsoft.com/en-us/azure/cognitive-services/luis/luis-reference-regions\n",
    "#  e.g. https://xxx.api.cognitive.microsoft.com/\n",
    "LUIS_RUNTIME_ENDPOINT=\"<YOUR RUNTIME ENDPOINT HERE>\"\n",
    "LUIS_RUNTIME_KEY=\"<YOUR LUIS KEY HERE>\"\n",
    "LUIS_RUNTIME_APPID=\"<YOUR LUIS APP ID>\"\n",
    "\n",
    "# Load data into dataframe\n",
    "df = pd.read_csv(\"example.csv\",  index_col='id')\n",
    "\n",
    "# view df from file\n",
    "df.head()"
   ]
  },
  {
   "cell_type": "code",
   "execution_count": 2,
   "metadata": {},
   "outputs": [],
   "source": [
    "# Instantiate a LUIS runtime client\n",
    "clientRuntime = LUISRuntimeClient(LUIS_RUNTIME_ENDPOINT, CognitiveServicesCredentials(LUIS_RUNTIME_KEY))"
   ]
  },
  {
   "cell_type": "code",
   "execution_count": 3,
   "metadata": {},
   "outputs": [],
   "source": [
    "# Define functions for prediction and entity parsing from response\n",
    "\n",
    "@sleep_and_retry\n",
    "@limits(calls=5, period=1)\n",
    "def predict(app_id, slot_name, query):\n",
    "    request = { \"query\" : str(query) }\n",
    "    # Note be sure to specify, using the slot_name parameter, whether your application is in staging or production.\n",
    "    resp = clientRuntime.prediction.get_slot_prediction(app_id=app_id, slot_name=slot_name, prediction_request=request)\n",
    "    return (resp)\n",
    "\n",
    "def get_all_values(d):\n",
    "    if isinstance(d, dict):\n",
    "        for v in d.values():\n",
    "            yield from get_all_values(v)\n",
    "    elif isinstance(d, list):\n",
    "        for v in d:\n",
    "            yield from get_all_values(v)\n",
    "    else:\n",
    "        yield d \n",
    "\n",
    "def get_entities(resp):\n",
    "    return ','.join(get_all_values(list(resp.prediction.entities.values())))\n"
   ]
  },
  {
   "cell_type": "code",
   "execution_count": 4,
   "metadata": {},
   "outputs": [],
   "source": [
    "# Create new column with entities from LUIS\n",
    "df['entities'] = df.apply(lambda row: get_entities(predict(LUIS_RUNTIME_APPID, 'production', row['text'])), axis=1)"
   ]
  },
  {
   "cell_type": "code",
   "execution_count": 5,
   "metadata": {},
   "outputs": [
    {
     "data": {
      "text/html": [
       "<div>\n",
       "<style scoped>\n",
       "    .dataframe tbody tr th:only-of-type {\n",
       "        vertical-align: middle;\n",
       "    }\n",
       "\n",
       "    .dataframe tbody tr th {\n",
       "        vertical-align: top;\n",
       "    }\n",
       "\n",
       "    .dataframe thead th {\n",
       "        text-align: right;\n",
       "    }\n",
       "</style>\n",
       "<table border=\"1\" class=\"dataframe\">\n",
       "  <thead>\n",
       "    <tr style=\"text-align: right;\">\n",
       "      <th></th>\n",
       "      <th>text</th>\n",
       "      <th>entities</th>\n",
       "    </tr>\n",
       "    <tr>\n",
       "      <th>id</th>\n",
       "      <th></th>\n",
       "      <th></th>\n",
       "    </tr>\n",
       "  </thead>\n",
       "  <tbody>\n",
       "    <tr>\n",
       "      <th>1</th>\n",
       "      <td>the fingerprint reader on my phone no longer w...</td>\n",
       "      <td>fingerprint</td>\n",
       "    </tr>\n",
       "    <tr>\n",
       "      <th>2</th>\n",
       "      <td>I am unable to login to the application</td>\n",
       "      <td>login</td>\n",
       "    </tr>\n",
       "    <tr>\n",
       "      <th>3</th>\n",
       "      <td>this is an example where someone has many issu...</td>\n",
       "      <td>fingerprint,login</td>\n",
       "    </tr>\n",
       "  </tbody>\n",
       "</table>\n",
       "</div>"
      ],
      "text/plain": [
       "                                                 text           entities\n",
       "id                                                                      \n",
       "1   the fingerprint reader on my phone no longer w...        fingerprint\n",
       "2             I am unable to login to the application              login\n",
       "3   this is an example where someone has many issu...  fingerprint,login"
      ]
     },
     "execution_count": 5,
     "metadata": {},
     "output_type": "execute_result"
    }
   ],
   "source": [
    "# df with entities column\n",
    "df.head()"
   ]
  }
 ],
 "metadata": {
  "kernelspec": {
   "display_name": "Python 3",
   "language": "python",
   "name": "python3"
  },
  "language_info": {
   "codemirror_mode": {
    "name": "ipython",
    "version": 3
   },
   "file_extension": ".py",
   "mimetype": "text/x-python",
   "name": "python",
   "nbconvert_exporter": "python",
   "pygments_lexer": "ipython3",
   "version": "3.7.4"
  }
 },
 "nbformat": 4,
 "nbformat_minor": 4
}
